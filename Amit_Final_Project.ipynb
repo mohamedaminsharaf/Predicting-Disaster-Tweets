{
  "nbformat": 4,
  "nbformat_minor": 0,
  "metadata": {
    "colab": {
      "name": "Amit_Final_Project.ipynb",
      "provenance": [],
      "collapsed_sections": [],
      "authorship_tag": "ABX9TyP0of92RLGqhY8FrzH9YbL6",
      "include_colab_link": true
    },
    "kernelspec": {
      "name": "python3",
      "display_name": "Python 3"
    },
    "language_info": {
      "name": "python"
    },
    "accelerator": "TPU",
    "gpuClass": "standard"
  },
  "cells": [
    {
      "cell_type": "markdown",
      "metadata": {
        "id": "view-in-github",
        "colab_type": "text"
      },
      "source": [
        "<a href=\"https://colab.research.google.com/github/mohamedaminsharaf/Predicting-Disaster-Tweets/blob/main/Amit_Final_Project.ipynb\" target=\"_parent\"><img src=\"https://colab.research.google.com/assets/colab-badge.svg\" alt=\"Open In Colab\"/></a>"
      ]
    },
    {
      "cell_type": "code",
      "execution_count": 1,
      "metadata": {
        "id": "qd9K6GW7hTjA"
      },
      "outputs": [],
      "source": [
        "import pandas as pd\n",
        "import numpy as np\n",
        "import matplotlib.pyplot as plt\n",
        "import seaborn as sns\n",
        "import json\n",
        "import re\n",
        "import tensorflow as tf\n",
        "from collections import Counter\n",
        "import nltk"
      ]
    },
    {
      "cell_type": "code",
      "source": [
        "train_df = pd.read_csv(\"/content/train.csv\")\n",
        "test_df = pd.read_csv(\"/content/test.csv\")"
      ],
      "metadata": {
        "id": "65omfz5ihhFl"
      },
      "execution_count": 2,
      "outputs": []
    },
    {
      "cell_type": "code",
      "source": [
        "train_df.head()"
      ],
      "metadata": {
        "colab": {
          "base_uri": "https://localhost:8080/",
          "height": 206
        },
        "id": "HK0ytG_4hu-g",
        "outputId": "942e0ac7-670a-4be0-a0cb-bd6fa9dde8b6"
      },
      "execution_count": 3,
      "outputs": [
        {
          "output_type": "execute_result",
          "data": {
            "text/plain": [
              "   id keyword location                                               text  \\\n",
              "0   1     NaN      NaN  Our Deeds are the Reason of this #earthquake M...   \n",
              "1   4     NaN      NaN             Forest fire near La Ronge Sask. Canada   \n",
              "2   5     NaN      NaN  All residents asked to 'shelter in place' are ...   \n",
              "3   6     NaN      NaN  13,000 people receive #wildfires evacuation or...   \n",
              "4   7     NaN      NaN  Just got sent this photo from Ruby #Alaska as ...   \n",
              "\n",
              "   target  \n",
              "0       1  \n",
              "1       1  \n",
              "2       1  \n",
              "3       1  \n",
              "4       1  "
            ],
            "text/html": [
              "\n",
              "  <div id=\"df-fd59b26f-38e2-4dff-90af-9530c1439db2\">\n",
              "    <div class=\"colab-df-container\">\n",
              "      <div>\n",
              "<style scoped>\n",
              "    .dataframe tbody tr th:only-of-type {\n",
              "        vertical-align: middle;\n",
              "    }\n",
              "\n",
              "    .dataframe tbody tr th {\n",
              "        vertical-align: top;\n",
              "    }\n",
              "\n",
              "    .dataframe thead th {\n",
              "        text-align: right;\n",
              "    }\n",
              "</style>\n",
              "<table border=\"1\" class=\"dataframe\">\n",
              "  <thead>\n",
              "    <tr style=\"text-align: right;\">\n",
              "      <th></th>\n",
              "      <th>id</th>\n",
              "      <th>keyword</th>\n",
              "      <th>location</th>\n",
              "      <th>text</th>\n",
              "      <th>target</th>\n",
              "    </tr>\n",
              "  </thead>\n",
              "  <tbody>\n",
              "    <tr>\n",
              "      <th>0</th>\n",
              "      <td>1</td>\n",
              "      <td>NaN</td>\n",
              "      <td>NaN</td>\n",
              "      <td>Our Deeds are the Reason of this #earthquake M...</td>\n",
              "      <td>1</td>\n",
              "    </tr>\n",
              "    <tr>\n",
              "      <th>1</th>\n",
              "      <td>4</td>\n",
              "      <td>NaN</td>\n",
              "      <td>NaN</td>\n",
              "      <td>Forest fire near La Ronge Sask. Canada</td>\n",
              "      <td>1</td>\n",
              "    </tr>\n",
              "    <tr>\n",
              "      <th>2</th>\n",
              "      <td>5</td>\n",
              "      <td>NaN</td>\n",
              "      <td>NaN</td>\n",
              "      <td>All residents asked to 'shelter in place' are ...</td>\n",
              "      <td>1</td>\n",
              "    </tr>\n",
              "    <tr>\n",
              "      <th>3</th>\n",
              "      <td>6</td>\n",
              "      <td>NaN</td>\n",
              "      <td>NaN</td>\n",
              "      <td>13,000 people receive #wildfires evacuation or...</td>\n",
              "      <td>1</td>\n",
              "    </tr>\n",
              "    <tr>\n",
              "      <th>4</th>\n",
              "      <td>7</td>\n",
              "      <td>NaN</td>\n",
              "      <td>NaN</td>\n",
              "      <td>Just got sent this photo from Ruby #Alaska as ...</td>\n",
              "      <td>1</td>\n",
              "    </tr>\n",
              "  </tbody>\n",
              "</table>\n",
              "</div>\n",
              "      <button class=\"colab-df-convert\" onclick=\"convertToInteractive('df-fd59b26f-38e2-4dff-90af-9530c1439db2')\"\n",
              "              title=\"Convert this dataframe to an interactive table.\"\n",
              "              style=\"display:none;\">\n",
              "        \n",
              "  <svg xmlns=\"http://www.w3.org/2000/svg\" height=\"24px\"viewBox=\"0 0 24 24\"\n",
              "       width=\"24px\">\n",
              "    <path d=\"M0 0h24v24H0V0z\" fill=\"none\"/>\n",
              "    <path d=\"M18.56 5.44l.94 2.06.94-2.06 2.06-.94-2.06-.94-.94-2.06-.94 2.06-2.06.94zm-11 1L8.5 8.5l.94-2.06 2.06-.94-2.06-.94L8.5 2.5l-.94 2.06-2.06.94zm10 10l.94 2.06.94-2.06 2.06-.94-2.06-.94-.94-2.06-.94 2.06-2.06.94z\"/><path d=\"M17.41 7.96l-1.37-1.37c-.4-.4-.92-.59-1.43-.59-.52 0-1.04.2-1.43.59L10.3 9.45l-7.72 7.72c-.78.78-.78 2.05 0 2.83L4 21.41c.39.39.9.59 1.41.59.51 0 1.02-.2 1.41-.59l7.78-7.78 2.81-2.81c.8-.78.8-2.07 0-2.86zM5.41 20L4 18.59l7.72-7.72 1.47 1.35L5.41 20z\"/>\n",
              "  </svg>\n",
              "      </button>\n",
              "      \n",
              "  <style>\n",
              "    .colab-df-container {\n",
              "      display:flex;\n",
              "      flex-wrap:wrap;\n",
              "      gap: 12px;\n",
              "    }\n",
              "\n",
              "    .colab-df-convert {\n",
              "      background-color: #E8F0FE;\n",
              "      border: none;\n",
              "      border-radius: 50%;\n",
              "      cursor: pointer;\n",
              "      display: none;\n",
              "      fill: #1967D2;\n",
              "      height: 32px;\n",
              "      padding: 0 0 0 0;\n",
              "      width: 32px;\n",
              "    }\n",
              "\n",
              "    .colab-df-convert:hover {\n",
              "      background-color: #E2EBFA;\n",
              "      box-shadow: 0px 1px 2px rgba(60, 64, 67, 0.3), 0px 1px 3px 1px rgba(60, 64, 67, 0.15);\n",
              "      fill: #174EA6;\n",
              "    }\n",
              "\n",
              "    [theme=dark] .colab-df-convert {\n",
              "      background-color: #3B4455;\n",
              "      fill: #D2E3FC;\n",
              "    }\n",
              "\n",
              "    [theme=dark] .colab-df-convert:hover {\n",
              "      background-color: #434B5C;\n",
              "      box-shadow: 0px 1px 3px 1px rgba(0, 0, 0, 0.15);\n",
              "      filter: drop-shadow(0px 1px 2px rgba(0, 0, 0, 0.3));\n",
              "      fill: #FFFFFF;\n",
              "    }\n",
              "  </style>\n",
              "\n",
              "      <script>\n",
              "        const buttonEl =\n",
              "          document.querySelector('#df-fd59b26f-38e2-4dff-90af-9530c1439db2 button.colab-df-convert');\n",
              "        buttonEl.style.display =\n",
              "          google.colab.kernel.accessAllowed ? 'block' : 'none';\n",
              "\n",
              "        async function convertToInteractive(key) {\n",
              "          const element = document.querySelector('#df-fd59b26f-38e2-4dff-90af-9530c1439db2');\n",
              "          const dataTable =\n",
              "            await google.colab.kernel.invokeFunction('convertToInteractive',\n",
              "                                                     [key], {});\n",
              "          if (!dataTable) return;\n",
              "\n",
              "          const docLinkHtml = 'Like what you see? Visit the ' +\n",
              "            '<a target=\"_blank\" href=https://colab.research.google.com/notebooks/data_table.ipynb>data table notebook</a>'\n",
              "            + ' to learn more about interactive tables.';\n",
              "          element.innerHTML = '';\n",
              "          dataTable['output_type'] = 'display_data';\n",
              "          await google.colab.output.renderOutput(dataTable, element);\n",
              "          const docLink = document.createElement('div');\n",
              "          docLink.innerHTML = docLinkHtml;\n",
              "          element.appendChild(docLink);\n",
              "        }\n",
              "      </script>\n",
              "    </div>\n",
              "  </div>\n",
              "  "
            ]
          },
          "metadata": {},
          "execution_count": 3
        }
      ]
    },
    {
      "cell_type": "code",
      "source": [
        "test_df.head()"
      ],
      "metadata": {
        "colab": {
          "base_uri": "https://localhost:8080/",
          "height": 206
        },
        "id": "wBHK09M8yOuR",
        "outputId": "5ccbc3fd-9675-4f9e-d022-a4910439ef9f"
      },
      "execution_count": 4,
      "outputs": [
        {
          "output_type": "execute_result",
          "data": {
            "text/plain": [
              "   id keyword location                                               text\n",
              "0   0     NaN      NaN                 Just happened a terrible car crash\n",
              "1   2     NaN      NaN  Heard about #earthquake is different cities, s...\n",
              "2   3     NaN      NaN  there is a forest fire at spot pond, geese are...\n",
              "3   9     NaN      NaN           Apocalypse lighting. #Spokane #wildfires\n",
              "4  11     NaN      NaN      Typhoon Soudelor kills 28 in China and Taiwan"
            ],
            "text/html": [
              "\n",
              "  <div id=\"df-bad119eb-a605-486f-9d41-9c23b943e010\">\n",
              "    <div class=\"colab-df-container\">\n",
              "      <div>\n",
              "<style scoped>\n",
              "    .dataframe tbody tr th:only-of-type {\n",
              "        vertical-align: middle;\n",
              "    }\n",
              "\n",
              "    .dataframe tbody tr th {\n",
              "        vertical-align: top;\n",
              "    }\n",
              "\n",
              "    .dataframe thead th {\n",
              "        text-align: right;\n",
              "    }\n",
              "</style>\n",
              "<table border=\"1\" class=\"dataframe\">\n",
              "  <thead>\n",
              "    <tr style=\"text-align: right;\">\n",
              "      <th></th>\n",
              "      <th>id</th>\n",
              "      <th>keyword</th>\n",
              "      <th>location</th>\n",
              "      <th>text</th>\n",
              "    </tr>\n",
              "  </thead>\n",
              "  <tbody>\n",
              "    <tr>\n",
              "      <th>0</th>\n",
              "      <td>0</td>\n",
              "      <td>NaN</td>\n",
              "      <td>NaN</td>\n",
              "      <td>Just happened a terrible car crash</td>\n",
              "    </tr>\n",
              "    <tr>\n",
              "      <th>1</th>\n",
              "      <td>2</td>\n",
              "      <td>NaN</td>\n",
              "      <td>NaN</td>\n",
              "      <td>Heard about #earthquake is different cities, s...</td>\n",
              "    </tr>\n",
              "    <tr>\n",
              "      <th>2</th>\n",
              "      <td>3</td>\n",
              "      <td>NaN</td>\n",
              "      <td>NaN</td>\n",
              "      <td>there is a forest fire at spot pond, geese are...</td>\n",
              "    </tr>\n",
              "    <tr>\n",
              "      <th>3</th>\n",
              "      <td>9</td>\n",
              "      <td>NaN</td>\n",
              "      <td>NaN</td>\n",
              "      <td>Apocalypse lighting. #Spokane #wildfires</td>\n",
              "    </tr>\n",
              "    <tr>\n",
              "      <th>4</th>\n",
              "      <td>11</td>\n",
              "      <td>NaN</td>\n",
              "      <td>NaN</td>\n",
              "      <td>Typhoon Soudelor kills 28 in China and Taiwan</td>\n",
              "    </tr>\n",
              "  </tbody>\n",
              "</table>\n",
              "</div>\n",
              "      <button class=\"colab-df-convert\" onclick=\"convertToInteractive('df-bad119eb-a605-486f-9d41-9c23b943e010')\"\n",
              "              title=\"Convert this dataframe to an interactive table.\"\n",
              "              style=\"display:none;\">\n",
              "        \n",
              "  <svg xmlns=\"http://www.w3.org/2000/svg\" height=\"24px\"viewBox=\"0 0 24 24\"\n",
              "       width=\"24px\">\n",
              "    <path d=\"M0 0h24v24H0V0z\" fill=\"none\"/>\n",
              "    <path d=\"M18.56 5.44l.94 2.06.94-2.06 2.06-.94-2.06-.94-.94-2.06-.94 2.06-2.06.94zm-11 1L8.5 8.5l.94-2.06 2.06-.94-2.06-.94L8.5 2.5l-.94 2.06-2.06.94zm10 10l.94 2.06.94-2.06 2.06-.94-2.06-.94-.94-2.06-.94 2.06-2.06.94z\"/><path d=\"M17.41 7.96l-1.37-1.37c-.4-.4-.92-.59-1.43-.59-.52 0-1.04.2-1.43.59L10.3 9.45l-7.72 7.72c-.78.78-.78 2.05 0 2.83L4 21.41c.39.39.9.59 1.41.59.51 0 1.02-.2 1.41-.59l7.78-7.78 2.81-2.81c.8-.78.8-2.07 0-2.86zM5.41 20L4 18.59l7.72-7.72 1.47 1.35L5.41 20z\"/>\n",
              "  </svg>\n",
              "      </button>\n",
              "      \n",
              "  <style>\n",
              "    .colab-df-container {\n",
              "      display:flex;\n",
              "      flex-wrap:wrap;\n",
              "      gap: 12px;\n",
              "    }\n",
              "\n",
              "    .colab-df-convert {\n",
              "      background-color: #E8F0FE;\n",
              "      border: none;\n",
              "      border-radius: 50%;\n",
              "      cursor: pointer;\n",
              "      display: none;\n",
              "      fill: #1967D2;\n",
              "      height: 32px;\n",
              "      padding: 0 0 0 0;\n",
              "      width: 32px;\n",
              "    }\n",
              "\n",
              "    .colab-df-convert:hover {\n",
              "      background-color: #E2EBFA;\n",
              "      box-shadow: 0px 1px 2px rgba(60, 64, 67, 0.3), 0px 1px 3px 1px rgba(60, 64, 67, 0.15);\n",
              "      fill: #174EA6;\n",
              "    }\n",
              "\n",
              "    [theme=dark] .colab-df-convert {\n",
              "      background-color: #3B4455;\n",
              "      fill: #D2E3FC;\n",
              "    }\n",
              "\n",
              "    [theme=dark] .colab-df-convert:hover {\n",
              "      background-color: #434B5C;\n",
              "      box-shadow: 0px 1px 3px 1px rgba(0, 0, 0, 0.15);\n",
              "      filter: drop-shadow(0px 1px 2px rgba(0, 0, 0, 0.3));\n",
              "      fill: #FFFFFF;\n",
              "    }\n",
              "  </style>\n",
              "\n",
              "      <script>\n",
              "        const buttonEl =\n",
              "          document.querySelector('#df-bad119eb-a605-486f-9d41-9c23b943e010 button.colab-df-convert');\n",
              "        buttonEl.style.display =\n",
              "          google.colab.kernel.accessAllowed ? 'block' : 'none';\n",
              "\n",
              "        async function convertToInteractive(key) {\n",
              "          const element = document.querySelector('#df-bad119eb-a605-486f-9d41-9c23b943e010');\n",
              "          const dataTable =\n",
              "            await google.colab.kernel.invokeFunction('convertToInteractive',\n",
              "                                                     [key], {});\n",
              "          if (!dataTable) return;\n",
              "\n",
              "          const docLinkHtml = 'Like what you see? Visit the ' +\n",
              "            '<a target=\"_blank\" href=https://colab.research.google.com/notebooks/data_table.ipynb>data table notebook</a>'\n",
              "            + ' to learn more about interactive tables.';\n",
              "          element.innerHTML = '';\n",
              "          dataTable['output_type'] = 'display_data';\n",
              "          await google.colab.output.renderOutput(dataTable, element);\n",
              "          const docLink = document.createElement('div');\n",
              "          docLink.innerHTML = docLinkHtml;\n",
              "          element.appendChild(docLink);\n",
              "        }\n",
              "      </script>\n",
              "    </div>\n",
              "  </div>\n",
              "  "
            ]
          },
          "metadata": {},
          "execution_count": 4
        }
      ]
    },
    {
      "cell_type": "code",
      "source": [
        "#Number of Missing Data For Train Data\n",
        "keyword_null = train_df['keyword'].isna().sum()\n",
        "print(\"Keyword Null Count : \" , keyword_null)\n",
        "location_null = train_df['location'].isna().sum()\n",
        "print(\"Location Null Count : \" , location_null)"
      ],
      "metadata": {
        "colab": {
          "base_uri": "https://localhost:8080/"
        },
        "id": "K7-tXXn6kjUZ",
        "outputId": "a36a8b66-7683-48cc-c814-b2cc7ccb0e4b"
      },
      "execution_count": 5,
      "outputs": [
        {
          "output_type": "stream",
          "name": "stdout",
          "text": [
            "Keyword Null Count :  61\n",
            "Location Null Count :  2533\n"
          ]
        }
      ]
    },
    {
      "cell_type": "code",
      "source": [
        "#Train Data Keyword Nulls Percentage\n",
        "print(\"Keyword Null Percentage Value : \" , (keyword_null/(train_df.shape[0])*100))"
      ],
      "metadata": {
        "colab": {
          "base_uri": "https://localhost:8080/"
        },
        "id": "s5uRgC3vh5-c",
        "outputId": "e8fe05d5-d2e3-479a-80b5-35ddde96007c"
      },
      "execution_count": 6,
      "outputs": [
        {
          "output_type": "stream",
          "name": "stdout",
          "text": [
            "Keyword Null Percentage Value :  0.8012610009194797\n"
          ]
        }
      ]
    },
    {
      "cell_type": "code",
      "source": [
        "#Train Data Location Nulls Percentage\n",
        "print(\"Location Null Percentage value : \" , (location_null/(train_df.shape[0])*100))"
      ],
      "metadata": {
        "colab": {
          "base_uri": "https://localhost:8080/"
        },
        "id": "m7Q3EDzJjVyi",
        "outputId": "0dad8f52-5cf5-4167-fa39-437e05366442"
      },
      "execution_count": 7,
      "outputs": [
        {
          "output_type": "stream",
          "name": "stdout",
          "text": [
            "Location Null Percentage value :  33.27203467752528\n"
          ]
        }
      ]
    },
    {
      "cell_type": "code",
      "source": [
        "#Number of Missing Data For Test Data\n",
        "test_keyword_null = test_df['keyword'].isna().sum()\n",
        "print(\"Keyword Null Count : \" , test_keyword_null)\n",
        "test_location_null = train_df['location'].isna().sum()\n",
        "print(\"Location Null Count : \" , test_location_null)"
      ],
      "metadata": {
        "colab": {
          "base_uri": "https://localhost:8080/"
        },
        "id": "C5GZBgKpyTu5",
        "outputId": "40471e88-3bbd-4f06-9cf3-1b70b2b7b183"
      },
      "execution_count": 8,
      "outputs": [
        {
          "output_type": "stream",
          "name": "stdout",
          "text": [
            "Keyword Null Count :  26\n",
            "Location Null Count :  2533\n"
          ]
        }
      ]
    },
    {
      "cell_type": "code",
      "source": [
        "#Test Data Keyword Nulls Percentage\n",
        "print(\"Test Keyword Null Percentage value : \" , (test_keyword_null/(test_df.shape[0])*100))"
      ],
      "metadata": {
        "colab": {
          "base_uri": "https://localhost:8080/"
        },
        "id": "IxYTuubvjg7x",
        "outputId": "28b17a28-3e9c-4555-9ce7-49539c4debab"
      },
      "execution_count": 9,
      "outputs": [
        {
          "output_type": "stream",
          "name": "stdout",
          "text": [
            "Test Keyword Null Percentage value :  0.796812749003984\n"
          ]
        }
      ]
    },
    {
      "cell_type": "code",
      "source": [
        "#Test Data Location Nulls Percentage\n",
        "print(\"Test Location Null Percentage value : \" , (test_location_null/(train_df.shape[0])*100))"
      ],
      "metadata": {
        "id": "_k1ttiZK0WoL",
        "colab": {
          "base_uri": "https://localhost:8080/"
        },
        "outputId": "b97df7b7-5e75-47ac-fb01-fd5ecf04f0e3"
      },
      "execution_count": 10,
      "outputs": [
        {
          "output_type": "stream",
          "name": "stdout",
          "text": [
            "Test Location Null Percentage value :  33.27203467752528\n"
          ]
        }
      ]
    },
    {
      "cell_type": "code",
      "source": [
        "#How many data in each class in train data\n",
        "train_df['target'].value_counts().plot(kind ='pie', autopct='%.0f%%', figsize = (15,12))"
      ],
      "metadata": {
        "colab": {
          "base_uri": "https://localhost:8080/",
          "height": 701
        },
        "id": "gEfIu2LA1KX5",
        "outputId": "2c0b936f-9d2d-4233-ff54-0147a4536aba"
      },
      "execution_count": 11,
      "outputs": [
        {
          "output_type": "execute_result",
          "data": {
            "text/plain": [
              "<matplotlib.axes._subplots.AxesSubplot at 0x7f9ef2ea1f90>"
            ]
          },
          "metadata": {},
          "execution_count": 11
        },
        {
          "output_type": "display_data",
          "data": {
            "text/plain": [
              "<Figure size 1080x864 with 1 Axes>"
            ],
            "image/png": "[encoded data removed]"
          },
          "metadata": {}
        }
      ]
    },
    {
      "cell_type": "code",
      "source": [
        "#Top 15 locations in Train Data\n",
        "train_df['location'].value_counts()[:15].index.tolist()"
      ],
      "metadata": {
        "colab": {
          "base_uri": "https://localhost:8080/"
        },
        "id": "5wrelJAg1c3L",
        "outputId": "fc1d554b-d2e7-4477-8446-9e5bb44876a6"
      },
      "execution_count": 12,
      "outputs": [
        {
          "output_type": "execute_result",
          "data": {
            "text/plain": [
              "['USA',\n",
              " 'New York',\n",
              " 'United States',\n",
              " 'London',\n",
              " 'Canada',\n",
              " 'Nigeria',\n",
              " 'UK',\n",
              " 'Los Angeles, CA',\n",
              " 'India',\n",
              " 'Mumbai',\n",
              " 'Washington, DC',\n",
              " 'Kenya',\n",
              " 'Worldwide',\n",
              " 'Australia',\n",
              " 'Chicago, IL']"
            ]
          },
          "metadata": {},
          "execution_count": 12
        }
      ]
    },
    {
      "cell_type": "code",
      "source": [
        "#Top 15 keywords in Train Data\n",
        "train_df['keyword'].value_counts()[:15].index.tolist()"
      ],
      "metadata": {
        "colab": {
          "base_uri": "https://localhost:8080/"
        },
        "id": "3MHksZbZ1nUL",
        "outputId": "73ef56c7-9dd5-4f3f-f51b-9e737838b903"
      },
      "execution_count": 13,
      "outputs": [
        {
          "output_type": "execute_result",
          "data": {
            "text/plain": [
              "['fatalities',\n",
              " 'deluge',\n",
              " 'armageddon',\n",
              " 'sinking',\n",
              " 'damage',\n",
              " 'harm',\n",
              " 'body%20bags',\n",
              " 'outbreak',\n",
              " 'evacuate',\n",
              " 'fear',\n",
              " 'collided',\n",
              " 'siren',\n",
              " 'twister',\n",
              " 'windstorm',\n",
              " 'sinkhole']"
            ]
          },
          "metadata": {},
          "execution_count": 13
        }
      ]
    },
    {
      "cell_type": "code",
      "source": [
        "#Top 15 locations in Test Data\n",
        "test_df['keyword'].value_counts()[:15].index.tolist()"
      ],
      "metadata": {
        "colab": {
          "base_uri": "https://localhost:8080/"
        },
        "id": "-AqpuW-hClO6",
        "outputId": "97b8693b-5c70-42c0-be87-6aec0cc17713"
      },
      "execution_count": 14,
      "outputs": [
        {
          "output_type": "execute_result",
          "data": {
            "text/plain": [
              "['deluged',\n",
              " 'demolished',\n",
              " 'rubble',\n",
              " 'first%20responders',\n",
              " 'seismic',\n",
              " 'obliteration',\n",
              " 'sirens',\n",
              " 'annihilation',\n",
              " 'snowstorm',\n",
              " 'avalanche',\n",
              " 'dead',\n",
              " 'mayhem',\n",
              " 'bioterrorism',\n",
              " 'catastrophic',\n",
              " 'survivors']"
            ]
          },
          "metadata": {},
          "execution_count": 14
        }
      ]
    },
    {
      "cell_type": "code",
      "source": [
        "#Top 15 keyword in Test Data\n",
        "test_df['keyword'].value_counts()[:15].index.tolist()"
      ],
      "metadata": {
        "colab": {
          "base_uri": "https://localhost:8080/"
        },
        "id": "Hlb_qJ0QCqWp",
        "outputId": "c3071711-35aa-49d6-ae37-5e315ac7fa8b"
      },
      "execution_count": 15,
      "outputs": [
        {
          "output_type": "execute_result",
          "data": {
            "text/plain": [
              "['deluged',\n",
              " 'demolished',\n",
              " 'rubble',\n",
              " 'first%20responders',\n",
              " 'seismic',\n",
              " 'obliteration',\n",
              " 'sirens',\n",
              " 'annihilation',\n",
              " 'snowstorm',\n",
              " 'avalanche',\n",
              " 'dead',\n",
              " 'mayhem',\n",
              " 'bioterrorism',\n",
              " 'catastrophic',\n",
              " 'survivors']"
            ]
          },
          "metadata": {},
          "execution_count": 15
        }
      ]
    },
    {
      "cell_type": "code",
      "source": [
        "#Most Common Words\n",
        "pd.Series(' '.join(train_df['text']).lower().split()).value_counts()[:10]"
      ],
      "metadata": {
        "colab": {
          "base_uri": "https://localhost:8080/"
        },
        "id": "nHp9t7_7CetU",
        "outputId": "ae20ab74-b17a-467d-a8c2-1a2cdd47cdd1"
      },
      "execution_count": 16,
      "outputs": [
        {
          "output_type": "execute_result",
          "data": {
            "text/plain": [
              "the    3207\n",
              "a      2135\n",
              "in     1949\n",
              "to     1934\n",
              "of     1814\n",
              "and    1405\n",
              "i      1336\n",
              "is      930\n",
              "for     880\n",
              "on      834\n",
              "dtype: int64"
            ]
          },
          "metadata": {},
          "execution_count": 16
        }
      ]
    },
    {
      "cell_type": "code",
      "source": [
        "pos_words = []\n",
        "neg_words = []\n",
        "for text in train_df[train_df['target']==1].text.str.split():\n",
        "  for subtext in text:\n",
        "    pos_words.append(subtext)\n",
        "for text in train_df[train_df['target']==0].text.str.split():\n",
        "  for subtext in text:\n",
        "    neg_words.append(subtext)\n",
        "\n",
        "all_words = pos_words + neg_words"
      ],
      "metadata": {
        "id": "bWIwWDabGYag"
      },
      "execution_count": 17,
      "outputs": []
    },
    {
      "cell_type": "code",
      "source": [
        "most_common_words = Counter(all_words)"
      ],
      "metadata": {
        "id": "kdMMIM8ktCsI"
      },
      "execution_count": 18,
      "outputs": []
    },
    {
      "cell_type": "code",
      "source": [
        "most_common_words = most_common_words.most_common()[:10]"
      ],
      "metadata": {
        "id": "sO8riJRstPxE"
      },
      "execution_count": 19,
      "outputs": []
    },
    {
      "cell_type": "code",
      "source": [
        "ind = []\n",
        "fre = []\n",
        "for item in most_common_words:\n",
        "   ind.append(item[0])\n",
        "   fre.append(item[1])\n",
        "fig = plt.figure(figsize= (15,10))\n",
        "\n",
        "plt.bar(ind, fre)\n",
        "plt.ylabel('Count')\n",
        "plt.xlabel('Words')\n",
        "plt.title(\"Most Common Words\")\n",
        "plt.show()"
      ],
      "metadata": {
        "colab": {
          "base_uri": "https://localhost:8080/",
          "height": 621
        },
        "id": "BfhaOlUiti4y",
        "outputId": "d04aab5b-bf74-4ed3-aa22-757dc5e5c98a"
      },
      "execution_count": 20,
      "outputs": [
        {
          "output_type": "display_data",
          "data": {
            "text/plain": [
              "<Figure size 1080x720 with 1 Axes>"
            ],
            "image/png": "[encoded data removed]"
          },
          "metadata": {
            "needs_background": "light"
          }
        }
      ]
    },
    {
      "cell_type": "code",
      "source": [
        "#Removing stopwords\n",
        "import nltk.corpus\n",
        "nltk.download('stopwords')\n",
        "from nltk.corpus import stopwords\n",
        "stop_word = stopwords.words('english')\n",
        "no_stop_words = []\n",
        "stop_words = []\n",
        "for word in all_words:\n",
        "  if word not in stop_word:\n",
        "    no_stop_words.append(word)\n",
        "  else:\n",
        "    stop_words.append(word)"
      ],
      "metadata": {
        "colab": {
          "base_uri": "https://localhost:8080/"
        },
        "id": "UKFUbeJbIGXN",
        "outputId": "914c40fc-a45c-47e9-8740-af099deb1368"
      },
      "execution_count": 21,
      "outputs": [
        {
          "output_type": "stream",
          "name": "stderr",
          "text": [
            "[nltk_data] Downloading package stopwords to /root/nltk_data...\n",
            "[nltk_data]   Unzipping corpora/stopwords.zip.\n"
          ]
        }
      ]
    },
    {
      "cell_type": "code",
      "source": [
        "final_stopwords = Counter(stop_words)"
      ],
      "metadata": {
        "id": "ZS4ozgcRKTWT"
      },
      "execution_count": 22,
      "outputs": []
    },
    {
      "cell_type": "code",
      "source": [
        "most_common_stopwords = final_stopwords.most_common()[:10]"
      ],
      "metadata": {
        "id": "TziEYXGVc_-I"
      },
      "execution_count": 23,
      "outputs": []
    },
    {
      "cell_type": "code",
      "source": [
        "most_common_stopwords"
      ],
      "metadata": {
        "colab": {
          "base_uri": "https://localhost:8080/"
        },
        "id": "1B3B1nClmLiw",
        "outputId": "c50acc02-ee20-4253-dae9-98783c51ef90"
      },
      "execution_count": 24,
      "outputs": [
        {
          "output_type": "execute_result",
          "data": {
            "text/plain": [
              "[('the', 2575),\n",
              " ('a', 1845),\n",
              " ('to', 1805),\n",
              " ('in', 1757),\n",
              " ('of', 1722),\n",
              " ('and', 1302),\n",
              " ('for', 820),\n",
              " ('is', 814),\n",
              " ('on', 773),\n",
              " ('you', 632)]"
            ]
          },
          "metadata": {},
          "execution_count": 24
        }
      ]
    },
    {
      "cell_type": "code",
      "source": [
        "#Bar Plot for Most Common StopWords\n",
        "ind = []\n",
        "fre = []\n",
        "for item in most_common_stopwords:\n",
        "   ind.append(item[0])\n",
        "   fre.append(item[1])\n",
        "fig = plt.figure(figsize= (15,10))\n",
        "\n",
        "plt.bar(ind, fre)\n",
        "plt.ylabel('Count')\n",
        "plt.xlabel('StopWords')\n",
        "plt.title(\"Most Common Stopwords\")\n",
        "plt.show()"
      ],
      "metadata": {
        "colab": {
          "base_uri": "https://localhost:8080/",
          "height": 621
        },
        "id": "kYEJFafFnnmm",
        "outputId": "3a860649-6d89-4875-ce75-0a01f58a13e7"
      },
      "execution_count": 25,
      "outputs": [
        {
          "output_type": "display_data",
          "data": {
            "text/plain": [
              "<Figure size 1080x720 with 1 Axes>"
            ],
            "image/png": "[encoded data removed]"
          },
          "metadata": {
            "needs_background": "light"
          }
        }
      ]
    },
    {
      "cell_type": "markdown",
      "source": [
        "#NLP"
      ],
      "metadata": {
        "id": "pN3BJ0DKuFS0"
      }
    },
    {
      "cell_type": "code",
      "source": [
        "#Cleaning the tweet\n",
        "def clean_tweet(tweet):\n",
        "  tweet = re.sub(r'@\\w*','',tweet) \n",
        "  tweet = re.sub(r'\\W+',' ',tweet) \n",
        "  tweet = re.sub(r'https?:\\S*','',tweet)\n",
        "  tweet = re.sub(r'\\d*','',tweet)\n",
        "  \n",
        "\n",
        "  return tweet"
      ],
      "metadata": {
        "id": "eYbI5yXIoVik"
      },
      "execution_count": 26,
      "outputs": []
    },
    {
      "cell_type": "code",
      "source": [
        "clean_tweets = []\n",
        "text_array = np.array(train_df['text'])\n",
        "for text in text_array:\n",
        "  clean_tweets.append(clean_tweet(text))"
      ],
      "metadata": {
        "id": "VbFWoNgAuyUX"
      },
      "execution_count": 27,
      "outputs": []
    },
    {
      "cell_type": "code",
      "source": [
        "test_clean_tweets = []\n",
        "text_array = np.array(test_df['text'])\n",
        "for text in text_array:\n",
        "  test_clean_tweets.append(clean_tweet(text))"
      ],
      "metadata": {
        "id": "yS5dYimsAPFp"
      },
      "execution_count": 28,
      "outputs": []
    },
    {
      "cell_type": "code",
      "source": [
        "#Split Text\n",
        "test_splitted_tweet = []\n",
        "for text in test_clean_tweets:\n",
        "  test_splitted_tweet.append(text.split())"
      ],
      "metadata": {
        "id": "exPD7t7lHwR9"
      },
      "execution_count": 29,
      "outputs": []
    },
    {
      "cell_type": "code",
      "source": [
        "splitted_tweet = []\n",
        "for text in clean_tweets:\n",
        "  splitted_tweet.append(text.split())"
      ],
      "metadata": {
        "id": "GtxV_N2CAW1Y"
      },
      "execution_count": 30,
      "outputs": []
    },
    {
      "cell_type": "code",
      "source": [
        "#Remove Stopwords after removing regular expressions\n",
        "stop_words = stopwords.words('english')\n",
        "re_no_stop_words = []\n",
        "re_no_stop_words_tweet = []\n",
        "re_stopwords = []\n",
        "for tweet in splitted_tweet:\n",
        "  re_no_stop_words = []\n",
        "  for word in tweet:\n",
        "    if word not in stop_words:\n",
        "      re_no_stop_words.append(word)\n",
        "    else:\n",
        "      re_stopwords.append(word)\n",
        "  \n",
        "  re_no_stop_words_tweet.append(list(re_no_stop_words))"
      ],
      "metadata": {
        "id": "UjEVVH50KNLo"
      },
      "execution_count": 31,
      "outputs": []
    },
    {
      "cell_type": "code",
      "source": [
        "stop_words = stopwords.words('english')\n",
        "test_re_no_stop_words = []\n",
        "test_re_no_stop_words_tweet = []\n",
        "test_re_stopwords = []\n",
        "for tweet in test_splitted_tweet:\n",
        "  test_re_no_stop_words = []\n",
        "  for word in tweet:\n",
        "    if word not in stop_words:\n",
        "      test_re_no_stop_words.append(word)\n",
        "    else:\n",
        "      test_re_stopwords.append(word)\n",
        "  \n",
        "  test_re_no_stop_words_tweet.append(list(test_re_no_stop_words))"
      ],
      "metadata": {
        "id": "zsSR9RWbAyUy"
      },
      "execution_count": 32,
      "outputs": []
    },
    {
      "cell_type": "code",
      "source": [
        "#Keeping in the tweet only verbs, pronouns, nouns and adjectives\n",
        "nltk.download('averaged_perceptron_tagger')\n",
        "re_no_stop_words_tweets = []\n",
        "re_no_stop_words_tweets_f = []\n",
        "for i in re_no_stop_words_tweet:\n",
        "  re_no_stop_words_tweets = []\n",
        "  tweet = nltk.pos_tag(i)\n",
        "  for j in tweet:\n",
        "    if j[1][0] in ['N','R','V', 'J']:\n",
        "      re_no_stop_words_tweets.append(j[0])\n",
        "  re_no_stop_words_tweets_f.append(list(re_no_stop_words_tweets))\n",
        "re_no_stop_words_tweets_f[0]"
      ],
      "metadata": {
        "colab": {
          "base_uri": "https://localhost:8080/"
        },
        "id": "-C7FffYOLmPb",
        "outputId": "87da54ad-c993-4fe3-a0a1-4f386341fbea"
      },
      "execution_count": 33,
      "outputs": [
        {
          "output_type": "stream",
          "name": "stderr",
          "text": [
            "[nltk_data] Downloading package averaged_perceptron_tagger to\n",
            "[nltk_data]     /root/nltk_data...\n",
            "[nltk_data]   Unzipping taggers/averaged_perceptron_tagger.zip.\n"
          ]
        },
        {
          "output_type": "execute_result",
          "data": {
            "text/plain": [
              "['Deeds', 'Reason', 'earthquake', 'May', 'ALLAH', 'Forgive']"
            ]
          },
          "metadata": {},
          "execution_count": 33
        }
      ]
    },
    {
      "cell_type": "code",
      "source": [
        "nltk.download('averaged_perceptron_tagger')\n",
        "test_re_no_stop_words_tweets = []\n",
        "test_re_no_stop_words_tweets_f = []\n",
        "for i in test_re_no_stop_words_tweet:\n",
        "  test_re_no_stop_words_tweets = []\n",
        "  tweet = nltk.pos_tag(i)\n",
        "  for j in tweet:\n",
        "    if j[1][0] in ['N','R','V', 'J']:\n",
        "      test_re_no_stop_words_tweets.append(j[0])\n",
        "  test_re_no_stop_words_tweets_f.append(list(test_re_no_stop_words_tweets))\n",
        "test_re_no_stop_words_tweets_f[0]"
      ],
      "metadata": {
        "colab": {
          "base_uri": "https://localhost:8080/"
        },
        "id": "WyPBPFmZBASx",
        "outputId": "6e8199fd-81d0-45a3-b45f-e11adfc0a44f"
      },
      "execution_count": 34,
      "outputs": [
        {
          "output_type": "stream",
          "name": "stderr",
          "text": [
            "[nltk_data] Downloading package averaged_perceptron_tagger to\n",
            "[nltk_data]     /root/nltk_data...\n",
            "[nltk_data]   Package averaged_perceptron_tagger is already up-to-\n",
            "[nltk_data]       date!\n"
          ]
        },
        {
          "output_type": "execute_result",
          "data": {
            "text/plain": [
              "['Just', 'happened', 'terrible', 'car', 'crash']"
            ]
          },
          "metadata": {},
          "execution_count": 34
        }
      ]
    },
    {
      "cell_type": "code",
      "source": [
        "re_no_stop_words_tweets_f[0]"
      ],
      "metadata": {
        "colab": {
          "base_uri": "https://localhost:8080/"
        },
        "id": "9RALE27FYXwI",
        "outputId": "35eefdce-fb76-4fc5-9c18-502314e4d628"
      },
      "execution_count": 35,
      "outputs": [
        {
          "output_type": "execute_result",
          "data": {
            "text/plain": [
              "['Deeds', 'Reason', 'earthquake', 'May', 'ALLAH', 'Forgive']"
            ]
          },
          "metadata": {},
          "execution_count": 35
        }
      ]
    },
    {
      "cell_type": "code",
      "source": [
        "#Stemwords for data\n",
        "from nltk.stem.snowball import SnowballStemmer\n",
        "snow_stemmer = SnowballStemmer(language='english')\n",
        "stem_words = []\n",
        "stemwords = []\n",
        "for i in re_no_stop_words_tweets_f:\n",
        "  stem_words = []\n",
        "  for j in i:\n",
        "    x = snow_stemmer.stem(j)\n",
        "    stem_words.append(x)\n",
        "  stemwords.append(list(stem_words))\n",
        "stemwords[0]"
      ],
      "metadata": {
        "colab": {
          "base_uri": "https://localhost:8080/"
        },
        "id": "WuYSBEU7Ua_v",
        "outputId": "16549a02-c605-41e8-aae9-802fed0e1a21"
      },
      "execution_count": 36,
      "outputs": [
        {
          "output_type": "execute_result",
          "data": {
            "text/plain": [
              "['deed', 'reason', 'earthquak', 'may', 'allah', 'forgiv']"
            ]
          },
          "metadata": {},
          "execution_count": 36
        }
      ]
    },
    {
      "cell_type": "code",
      "source": [
        "from nltk.stem.snowball import SnowballStemmer\n",
        "snow_stemmer = SnowballStemmer(language='english')\n",
        "test_stem_words = []\n",
        "test_stemwords = []\n",
        "for i in test_re_no_stop_words_tweets_f:\n",
        "  test_stem_words = []\n",
        "  for j in i:\n",
        "    x = snow_stemmer.stem(j)\n",
        "    test_stem_words.append(x)\n",
        "  test_stemwords.append(list(test_stem_words))\n",
        "test_stemwords[0]"
      ],
      "metadata": {
        "colab": {
          "base_uri": "https://localhost:8080/"
        },
        "id": "vcVqGtZrBM1A",
        "outputId": "8cc2b7e9-593d-413f-e28c-d81c5e451330"
      },
      "execution_count": 37,
      "outputs": [
        {
          "output_type": "execute_result",
          "data": {
            "text/plain": [
              "['just', 'happen', 'terribl', 'car', 'crash']"
            ]
          },
          "metadata": {},
          "execution_count": 37
        }
      ]
    },
    {
      "cell_type": "code",
      "source": [
        "#Tokenization\n",
        "from tensorflow.keras.preprocessing.text import Tokenizer\n",
        "tokenizer=Tokenizer()\n",
        "tokenizer.fit_on_texts(stemwords)\n",
        "tokenized_tweet =tokenizer.texts_to_sequences(stemwords)"
      ],
      "metadata": {
        "id": "ihFUqLBYYBWQ"
      },
      "execution_count": 38,
      "outputs": []
    },
    {
      "cell_type": "code",
      "source": [
        "tokenizer.fit_on_texts(test_stemwords)\n",
        "test_tokenized_tweet =tokenizer.texts_to_sequences(test_stemwords)"
      ],
      "metadata": {
        "id": "4_-h9hkRBdK4"
      },
      "execution_count": 39,
      "outputs": []
    },
    {
      "cell_type": "code",
      "source": [
        "#Padding\n",
        "from tensorflow.keras.preprocessing.sequence import pad_sequences\n",
        "padded=pad_sequences(tokenized_tweet)"
      ],
      "metadata": {
        "id": "quPFPAJxa8Zc"
      },
      "execution_count": 40,
      "outputs": []
    },
    {
      "cell_type": "code",
      "source": [
        "test_padded=pad_sequences(test_tokenized_tweet)"
      ],
      "metadata": {
        "id": "IU1LYuY4BiN5"
      },
      "execution_count": 41,
      "outputs": []
    },
    {
      "cell_type": "code",
      "source": [
        "test_padded[0]"
      ],
      "metadata": {
        "colab": {
          "base_uri": "https://localhost:8080/"
        },
        "id": "yVasfDIkCgsG",
        "outputId": "0ae428af-b8db-4123-f06c-c9b4305c3208"
      },
      "execution_count": 42,
      "outputs": [
        {
          "output_type": "execute_result",
          "data": {
            "text/plain": [
              "array([   0,    0,    0,    0,    0,    0,    0,    0,    0,    0,    0,\n",
              "          0,    0,    0,    0,    0,    0,    0,    0,    0,    0,  179,\n",
              "        162, 1354,   56,   22], dtype=int32)"
            ]
          },
          "metadata": {},
          "execution_count": 42
        }
      ]
    },
    {
      "cell_type": "code",
      "source": [
        "padded[:10]"
      ],
      "metadata": {
        "colab": {
          "base_uri": "https://localhost:8080/"
        },
        "id": "aCOUoQXui-PV",
        "outputId": "78bb5b53-a24f-4bb5-90ce-03b93f82e95d"
      },
      "execution_count": 43,
      "outputs": [
        {
          "output_type": "execute_result",
          "data": {
            "text/plain": [
              "array([[   0,    0,    0,    0,    0,    0,    0,    0,    0,    0,    0,\n",
              "           0,    0,    0,    0,    0,    0,    0,    0,    0, 3703,  481,\n",
              "         220,  925, 1403, 2965],\n",
              "       [   0,    0,    0,    0,    0,    0,    0,    0,    0,    0,    0,\n",
              "           0,    0,    0,    0,    0,    0,    0,    0,    0,  150,    4,\n",
              "         679, 5220, 5221, 1090],\n",
              "       [   0,    0,    0,    0,    0,    0,    0,    0,    0,    0,    0,\n",
              "           0,    0,    0,    0, 1404,  543, 1690,  411, 5222,  221,   36,\n",
              "        1690,  411,  326,  449],\n",
              "       [   0,    0,    0,    0,    0,    0,    0,    0,    0,    0,    0,\n",
              "           0,    0,    0,    0,    0,    0,    0,    0,    0,   11, 2477,\n",
              "         109,   36,  326,   45],\n",
              "       [   0,    0,    0,    0,    0,    0,    0,    0,    0,    0,    0,\n",
              "           0,    0,    0,    0,    0,  197,   59, 1091,  146, 5223, 1691,\n",
              "         222,  109, 2478,  134],\n",
              "       [   0,    0,    0,    0,    0,    0,    0,    0,    0,    0,    0,\n",
              "           0,    0,    0, 2479,  214,   45, 1238,  337,  786,  482,  926,\n",
              "         361,    4, 3704,  109],\n",
              "       [   0,    0,    0,    0,    0,    0,    0,    0,    0,    0,    0,\n",
              "           0,    0,    0,   19,   22,  742,  185,   64,  713,   19,  465,\n",
              "        5224,  927,  823,  186],\n",
              "       [   0,    0,    0,    0,    0,    0,    0,    0,    0,    0,    0,\n",
              "           0,    0,    0,    0,    0,    0,    0,    0,    0,    0,  193,\n",
              "        1164,   39,    4, 1903],\n",
              "       [   0,    0,    0,    0,    0,    0,    0,    0,    0,    0,    0,\n",
              "           0,    0,    0,    0,    0,    0,    0,    0,    0,    0,   21,\n",
              "          36,  198,   25,  465],\n",
              "       [   0,    0,    0,    0,    0,    0,    0,    0,    0,    0,    0,\n",
              "           0,    0,    0,    0,    0,    0,    0,    0,    0,    0,    0,\n",
              "        2145,  338,   41,  186]], dtype=int32)"
            ]
          },
          "metadata": {},
          "execution_count": 43
        }
      ]
    },
    {
      "cell_type": "code",
      "source": [
        "train_target = train_df['target'].values"
      ],
      "metadata": {
        "id": "Oa0s_qCkj1oe"
      },
      "execution_count": 44,
      "outputs": []
    },
    {
      "cell_type": "code",
      "source": [
        "#Splitting\n",
        "from sklearn.model_selection import train_test_split\n",
        "X_train, X_test, y_train, y_test = train_test_split(padded, train_target, test_size=0.2, random_state=42)"
      ],
      "metadata": {
        "id": "caSCocYLjBwj"
      },
      "execution_count": 45,
      "outputs": []
    },
    {
      "cell_type": "code",
      "source": [
        "#LSTM Model\n",
        "from tensorflow.keras.models import Sequential\n",
        "from tensorflow.keras.layers import LSTM,Dense,Dropout,Embedding,Bidirectional\n",
        "\n",
        "model = tf.keras.Sequential()\n",
        "model.add(tf.keras.layers.Embedding(len(tokenizer.word_index)+1,10, input_length=26))\n",
        "model.add(tf.keras.layers.GlobalAveragePooling1D())\n",
        "model.add(tf.keras.layers.Dense(64, activation='relu'))\n",
        "# model.add(Dropout(0.80))\n",
        "model.add(tf.keras.layers.Dense(32, activation='relu'))\n",
        "model.add(Dropout(0.5))\n",
        "model.add(tf.keras.layers.Dense(1, activation='sigmoid'))\n",
        "\n",
        "model.compile(loss='binary_crossentropy', optimizer='adam', metrics=['accuracy'])\n",
        "\n",
        "model.summary()"
      ],
      "metadata": {
        "id": "-Q-oP8q0E5Jm",
        "colab": {
          "base_uri": "https://localhost:8080/"
        },
        "outputId": "f6bebe9c-ff4b-46a1-88c7-966ef201eb1a"
      },
      "execution_count": 165,
      "outputs": [
        {
          "output_type": "stream",
          "name": "stdout",
          "text": [
            "Model: \"sequential_40\"\n",
            "_________________________________________________________________\n",
            " Layer (type)                Output Shape              Param #   \n",
            "=================================================================\n",
            " embedding_36 (Embedding)    (None, 26, 10)            200230    \n",
            "                                                                 \n",
            " global_average_pooling1d_27  (None, 10)               0         \n",
            "  (GlobalAveragePooling1D)                                       \n",
            "                                                                 \n",
            " dense_108 (Dense)           (None, 64)                704       \n",
            "                                                                 \n",
            " dense_109 (Dense)           (None, 32)                2080      \n",
            "                                                                 \n",
            " dropout_30 (Dropout)        (None, 32)                0         \n",
            "                                                                 \n",
            " dense_110 (Dense)           (None, 1)                 33        \n",
            "                                                                 \n",
            "=================================================================\n",
            "Total params: 203,047\n",
            "Trainable params: 203,047\n",
            "Non-trainable params: 0\n",
            "_________________________________________________________________\n"
          ]
        }
      ]
    },
    {
      "cell_type": "code",
      "source": [
        "history = model.fit(X_train, y_train, validation_split = 0.1, verbose=1, epochs = 15, batch_size = 600)"
      ],
      "metadata": {
        "colab": {
          "base_uri": "https://localhost:8080/"
        },
        "id": "mP8NvflE80l9",
        "outputId": "a590d027-d391-491e-d0a6-6ac55a01a8e5"
      },
      "execution_count": 166,
      "outputs": [
        {
          "output_type": "stream",
          "name": "stdout",
          "text": [
            "Epoch 1/15\n",
            "10/10 [==============================] - 1s 26ms/step - loss: 0.6914 - accuracy: 0.5512 - val_loss: 0.6885 - val_accuracy: 0.5698\n",
            "Epoch 2/15\n",
            "10/10 [==============================] - 0s 10ms/step - loss: 0.6868 - accuracy: 0.5694 - val_loss: 0.6841 - val_accuracy: 0.5698\n",
            "Epoch 3/15\n",
            "10/10 [==============================] - 0s 9ms/step - loss: 0.6821 - accuracy: 0.5694 - val_loss: 0.6794 - val_accuracy: 0.5698\n",
            "Epoch 4/15\n",
            "10/10 [==============================] - 0s 10ms/step - loss: 0.6772 - accuracy: 0.5694 - val_loss: 0.6746 - val_accuracy: 0.5698\n",
            "Epoch 5/15\n",
            "10/10 [==============================] - 0s 9ms/step - loss: 0.6724 - accuracy: 0.5696 - val_loss: 0.6682 - val_accuracy: 0.5698\n",
            "Epoch 6/15\n",
            "10/10 [==============================] - 0s 10ms/step - loss: 0.6625 - accuracy: 0.5718 - val_loss: 0.6581 - val_accuracy: 0.5698\n",
            "Epoch 7/15\n",
            "10/10 [==============================] - 0s 10ms/step - loss: 0.6473 - accuracy: 0.5869 - val_loss: 0.6420 - val_accuracy: 0.5977\n",
            "Epoch 8/15\n",
            "10/10 [==============================] - 0s 9ms/step - loss: 0.6262 - accuracy: 0.6701 - val_loss: 0.6194 - val_accuracy: 0.7159\n",
            "Epoch 9/15\n",
            "10/10 [==============================] - 0s 9ms/step - loss: 0.5923 - accuracy: 0.7566 - val_loss: 0.5910 - val_accuracy: 0.7422\n",
            "Epoch 10/15\n",
            "10/10 [==============================] - 0s 11ms/step - loss: 0.5519 - accuracy: 0.7887 - val_loss: 0.5593 - val_accuracy: 0.7570\n",
            "Epoch 11/15\n",
            "10/10 [==============================] - 0s 9ms/step - loss: 0.5067 - accuracy: 0.8261 - val_loss: 0.5267 - val_accuracy: 0.7635\n",
            "Epoch 12/15\n",
            "10/10 [==============================] - 0s 10ms/step - loss: 0.4521 - accuracy: 0.8429 - val_loss: 0.4993 - val_accuracy: 0.7882\n",
            "Epoch 13/15\n",
            "10/10 [==============================] - 0s 10ms/step - loss: 0.4055 - accuracy: 0.8728 - val_loss: 0.4716 - val_accuracy: 0.7849\n",
            "Epoch 14/15\n",
            "10/10 [==============================] - 0s 9ms/step - loss: 0.3581 - accuracy: 0.8790 - val_loss: 0.4599 - val_accuracy: 0.7947\n",
            "Epoch 15/15\n",
            "10/10 [==============================] - 0s 11ms/step - loss: 0.3137 - accuracy: 0.9000 - val_loss: 0.4439 - val_accuracy: 0.8095\n"
          ]
        }
      ]
    },
    {
      "cell_type": "code",
      "source": [
        "y = model.predict(X_test)"
      ],
      "metadata": {
        "id": "p7VYhZgy-itz"
      },
      "execution_count": 167,
      "outputs": []
    },
    {
      "cell_type": "code",
      "source": [
        "model.evaluate(X_test, y_test)"
      ],
      "metadata": {
        "colab": {
          "base_uri": "https://localhost:8080/"
        },
        "id": "A94KDpV4oHX2",
        "outputId": "d0504611-072b-4cc2-ac87-507b6a48efeb"
      },
      "execution_count": 168,
      "outputs": [
        {
          "output_type": "stream",
          "name": "stdout",
          "text": [
            "48/48 [==============================] - 0s 2ms/step - loss: 0.4568 - accuracy: 0.8129\n"
          ]
        },
        {
          "output_type": "execute_result",
          "data": {
            "text/plain": [
              "[0.45684346556663513, 0.8128693103790283]"
            ]
          },
          "metadata": {},
          "execution_count": 168
        }
      ]
    },
    {
      "cell_type": "code",
      "source": [
        "plt.plot(history.history['accuracy'])\n",
        "plt.plot(history.history['val_accuracy'])\n",
        "plt.legend(['Train Accuracy','Val Accuracy'])\n",
        "plt.title('Accuracy')\n",
        "plt.xlabel('Epochs')"
      ],
      "metadata": {
        "colab": {
          "base_uri": "https://localhost:8080/",
          "height": 313
        },
        "id": "L7FFHFfmo6UL",
        "outputId": "ed2c0e48-d4e0-4edc-831f-87089086b582"
      },
      "execution_count": 169,
      "outputs": [
        {
          "output_type": "execute_result",
          "data": {
            "text/plain": [
              "Text(0.5, 0, 'Epochs')"
            ]
          },
          "metadata": {},
          "execution_count": 169
        },
        {
          "output_type": "display_data",
          "data": {
            "text/plain": [
              "<Figure size 432x288 with 1 Axes>"
            ],
            "image/png": "[encoded data removed]"
          },
          "metadata": {
            "needs_background": "light"
          }
        }
      ]
    },
    {
      "cell_type": "code",
      "source": [
        "plt.plot(history.history['loss'])\n",
        "plt.plot(history.history['val_loss'])\n",
        "plt.legend(['training_Loss','Val_Loss'])\n",
        "plt.title('Loss')\n",
        "plt.xlabel('epochs')"
      ],
      "metadata": {
        "colab": {
          "base_uri": "https://localhost:8080/",
          "height": 313
        },
        "id": "rdgow4iZrX4i",
        "outputId": "762a7ff2-8fa6-411c-eb74-0622e5d90943"
      },
      "execution_count": 170,
      "outputs": [
        {
          "output_type": "execute_result",
          "data": {
            "text/plain": [
              "Text(0.5, 0, 'epochs')"
            ]
          },
          "metadata": {},
          "execution_count": 170
        },
        {
          "output_type": "display_data",
          "data": {
            "text/plain": [
              "<Figure size 432x288 with 1 Axes>"
            ],
            "image/png": "[encoded data removed]"
          },
          "metadata": {
            "needs_background": "light"
          }
        }
      ]
    },
    {
      "cell_type": "code",
      "source": [
        "model.save(\"Disaster_tweet_model.h5\")"
      ],
      "metadata": {
        "id": "aw9CQoVoroD6"
      },
      "execution_count": 171,
      "outputs": []
    },
    {
      "cell_type": "code",
      "source": [
        ""
      ],
      "metadata": {
        "id": "53A3EVSo9KHv"
      },
      "execution_count": null,
      "outputs": []
    }
  ]
}